{
 "cells": [
  {
   "cell_type": "code",
   "execution_count": 1,
   "id": "e96b8dea-4619-4bf4-a9cb-9b028ea6ddde",
   "metadata": {},
   "outputs": [],
   "source": [
    "import numpy as np\n"
   ]
  },
  {
   "cell_type": "code",
   "execution_count": 3,
   "id": "d3e32e9c-aa4d-4fa1-9b94-0f75084703c8",
   "metadata": {},
   "outputs": [],
   "source": [
    "def tanh(x):\n",
    "    return np.tanh(x)\n",
    "\n",
    "def tanh_derivative(x):\n",
    "    return 1 - np.tanh(x) ** 2"
   ]
  },
  {
   "cell_type": "code",
   "execution_count": 5,
   "id": "c08a8cfe-c043-491a-ad52-d90fb81fcc00",
   "metadata": {},
   "outputs": [],
   "source": [
    "w1 = np.random.rand(2, 2) - 0.5 \n",
    "w2 = np.random.rand(2, 1) - 0.5 \n",
    "b1, b2 = 0.5, 0.7  "
   ]
  },
  {
   "cell_type": "code",
   "execution_count": 13,
   "id": "14d46cc0-29f4-40aa-8f65-94ca79aa983e",
   "metadata": {},
   "outputs": [],
   "source": [
    "def forward_pass(X):\n",
    "    global w1, w2, b1, b2\n",
    "    \n",
    "    \n",
    "    h1 = np.dot(X, w1) + b1\n",
    "    a1 = tanh(h1)\n",
    "    \n",
    "    h2 = np.dot(a1, w2) + b2\n",
    "    a2 = tanh(h2)\n",
    "    \n",
    "    return a2"
   ]
  },
  {
   "cell_type": "code",
   "execution_count": 9,
   "id": "736b15b6-2e93-4ef8-b185-95bb12028ab8",
   "metadata": {},
   "outputs": [],
   "source": [
    "X = np.array([[0.1, 0.2], [0.4, 0.5], [0.7, 0.8]])\n"
   ]
  },
  {
   "cell_type": "code",
   "execution_count": 15,
   "id": "678e5e51-c228-4022-bdc5-51f344f4330d",
   "metadata": {},
   "outputs": [
    {
     "name": "stdout",
     "output_type": "stream",
     "text": [
      "Output: [[0.4182014 ]\n",
      " [0.48081126]\n",
      " [0.54324716]]\n"
     ]
    }
   ],
   "source": [
    "output = forward_pass(X)\n",
    "print(\"Output:\", output)"
   ]
  },
  {
   "cell_type": "code",
   "execution_count": null,
   "id": "2a7a1d9b-9026-413f-bd15-7238925bc2e0",
   "metadata": {},
   "outputs": [],
   "source": []
  }
 ],
 "metadata": {
  "kernelspec": {
   "display_name": "Python [conda env:base] *",
   "language": "python",
   "name": "conda-base-py"
  },
  "language_info": {
   "codemirror_mode": {
    "name": "ipython",
    "version": 3
   },
   "file_extension": ".py",
   "mimetype": "text/x-python",
   "name": "python",
   "nbconvert_exporter": "python",
   "pygments_lexer": "ipython3",
   "version": "3.12.7"
  }
 },
 "nbformat": 4,
 "nbformat_minor": 5
}
