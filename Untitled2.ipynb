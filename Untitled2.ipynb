{
  "nbformat": 4,
  "nbformat_minor": 0,
  "metadata": {
    "colab": {
      "provenance": [],
      "authorship_tag": "ABX9TyOSXLH9QIdiPtcKyHX8II3F",
      "include_colab_link": true
    },
    "kernelspec": {
      "name": "python3",
      "display_name": "Python 3"
    },
    "language_info": {
      "name": "python"
    }
  },
  "cells": [
    {
      "cell_type": "markdown",
      "metadata": {
        "id": "view-in-github",
        "colab_type": "text"
      },
      "source": [
        "<a href=\"https://colab.research.google.com/github/elh10604/NN-by-scratch/blob/main/Untitled2.ipynb\" target=\"_parent\"><img src=\"https://colab.research.google.com/assets/colab-badge.svg\" alt=\"Open In Colab\"/></a>"
      ]
    },
    {
      "cell_type": "code",
      "execution_count": null,
      "metadata": {
        "id": "VAIm0pzr26S4"
      },
      "outputs": [],
      "source": [
        "import numpy as np"
      ]
    },
    {
      "cell_type": "code",
      "source": [
        "def softmax(x):\n",
        "    e_x = np.exp(x - np.max(x))\n",
        "    return e_x / e_x.sum(axis=0)\n",
        "\n",
        "def tanh(x):\n",
        "    return np.tanh(x)\n",
        "\n",
        "def tanh_derivative(x):\n",
        "    return 1 - np.tanh(x)**2\n"
      ],
      "metadata": {
        "id": "TGngqP0X3Ayg"
      },
      "execution_count": null,
      "outputs": []
    },
    {
      "cell_type": "code",
      "source": [
        "def initialize_parameters(input_dim, hidden_dim, output_dim):\n",
        "    np.random.seed(1)\n",
        "    Wx = np.random.randn(hidden_dim, input_dim) * 0.01\n",
        "    Wh = np.random.randn(hidden_dim, hidden_dim) * 0.01\n",
        "    Wy = np.random.randn(output_dim, hidden_dim) * 0.01\n",
        "    return Wx, Wh, Wy\n"
      ],
      "metadata": {
        "id": "5Di1XD3l3Fbc"
      },
      "execution_count": null,
      "outputs": []
    },
    {
      "cell_type": "code",
      "source": [
        "# Forward propagation\n",
        "def forward(x_seq, Wx, Wh, Wy):\n",
        "    h_prev = np.zeros((Wh.shape[0], 1))\n",
        "    hs = {}\n",
        "    ys = {}\n",
        "    for t, x in enumerate(x_seq):\n",
        "        x = x.reshape(-1, 1)\n",
        "        a = np.dot(Wx, x) + np.dot(Wh, h_prev)\n",
        "        h = tanh(a)\n",
        "        y = softmax(np.dot(Wy, h))\n",
        "        hs[t] = h\n",
        "        ys[t] = y\n",
        "        h_prev = h\n",
        "    return hs, ys"
      ],
      "metadata": {
        "id": "HlzY1bcX3IgS"
      },
      "execution_count": null,
      "outputs": []
    },
    {
      "cell_type": "code",
      "source": [
        "def compute_loss(ys, targets):\n",
        "    loss = 0\n",
        "    for t in range(len(targets)):\n",
        "        loss -= np.log(ys[t][targets[t], 0])\n",
        "    return loss / len(targets)"
      ],
      "metadata": {
        "id": "FolFw94o3PdN"
      },
      "execution_count": null,
      "outputs": []
    },
    {
      "cell_type": "code",
      "source": [
        "def backward(x_seq, targets, hs, ys, Wx, Wh, Wy, learning_rate=0.01):\n",
        "    dWx = np.zeros_like(Wx)\n",
        "    dWh = np.zeros_like(Wh)\n",
        "    dWy = np.zeros_like(Wy)\n",
        "    dh_next = np.zeros((Wh.shape[0], 1))\n",
        "\n",
        "    for t in reversed(range(len(x_seq))):\n",
        "        x = x_seq[t].reshape(-1, 1)\n",
        "        h = hs[t]\n",
        "\n",
        "        dy = ys[t].copy()\n",
        "        dy[targets[t]] -= 1  # derivative of softmax + cross-entropy\n",
        "        dWy += np.dot(dy, h.T)\n",
        "\n",
        "        dh = np.dot(Wy.T, dy) + dh_next\n",
        "        da = dh * tanh_derivative(h)\n",
        "\n",
        "        dWx += np.dot(da, x.T)\n",
        "        dWh += np.dot(da, hs[t-1].T) if t != 0 else 0\n",
        "\n",
        "        dh_next = np.dot(Wh.T, da)\n",
        "        Wx -= learning_rate * dWx\n",
        "    Wh -= learning_rate * dWh\n",
        "    Wy -= learning_rate * dWy\n",
        "\n",
        "    return Wx, Wh, Wy"
      ],
      "metadata": {
        "id": "8m1MUh9L3Zlr"
      },
      "execution_count": null,
      "outputs": []
    },
    {
      "cell_type": "code",
      "source": [
        "def train(x_seq, targets, input_dim, hidden_dim, output_dim, epochs=1000):\n",
        "    Wx, Wh, Wy = initialize_parameters(input_dim, hidden_dim, output_dim)\n",
        "\n",
        "    for epoch in range(epochs):\n",
        "        hs, ys = forward(x_seq, Wx, Wh, Wy)\n",
        "        loss = compute_loss(ys, targets)\n",
        "        Wx, Wh, Wy = backward(x_seq, targets, hs, ys, Wx, Wh, Wy)\n",
        "\n",
        "        if epoch % 100 == 0:\n",
        "            print(f\"Epoch {epoch}: Loss = {loss:.4f}\")\n",
        "\n",
        "    return Wx, Wh, Wy\n"
      ],
      "metadata": {
        "id": "o-I9iNRi3a_X"
      },
      "execution_count": null,
      "outputs": []
    },
    {
      "cell_type": "code",
      "source": [
        "if __name__ == \"__main__\":\n",
        "    # Input: one-hot vectors for 'd', 'o', 'g'\n",
        "    x_seq = [np.array([1,0,0,0]), np.array([0,1,0,0]), np.array([0,0,1,0])]  # 4-dimensional one-hot\n",
        "    targets = [1,2,3]  # assume we want to predict the next character\n",
        "\n",
        "    input_dim = 4\n",
        "    hidden_dim = 3\n",
        "    output_dim = 4\n",
        "\n",
        "    train(x_seq, targets, input_dim, hidden_dim, output_dim)\n"
      ],
      "metadata": {
        "colab": {
          "base_uri": "https://localhost:8080/"
        },
        "id": "boHF5pW63jGa",
        "outputId": "eff1b50b-2f2b-4f4a-a769-31b6b58b0529"
      },
      "execution_count": null,
      "outputs": [
        {
          "output_type": "stream",
          "name": "stdout",
          "text": [
            "Epoch 0: Loss = 1.3863\n",
            "Epoch 100: Loss = 1.3842\n",
            "Epoch 200: Loss = 1.3536\n",
            "Epoch 300: Loss = 1.0474\n",
            "Epoch 400: Loss = 0.5458\n",
            "Epoch 500: Loss = 0.2979\n",
            "Epoch 600: Loss = 0.1881\n",
            "Epoch 700: Loss = 0.1326\n",
            "Epoch 800: Loss = 0.1008\n",
            "Epoch 900: Loss = 0.0805\n"
          ]
        }
      ]
    }
  ]
}